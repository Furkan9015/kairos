{
 "cells": [
  {
   "cell_type": "code",
   "execution_count": 1,
   "id": "aefb67fe-f0d8-44ae-9cab-af6f8fe8ff02",
   "metadata": {},
   "outputs": [],
   "source": [
    "import torch\n",
    "from torch import nn\n",
    "import torch.nn.functional as F"
   ]
  },
  {
   "cell_type": "code",
   "execution_count": 64,
   "metadata": {},
   "outputs": [],
   "source": [
    "class URNetDownCNNBlock(nn.Module):\n",
    "\n",
    "    def __init__(self, input_size, channel_size, conv_kernel, max_kernel, stride = 1, padding = 'same'):\n",
    "        super(URNetDownCNNBlock, self).__init__()\n",
    "\n",
    "        self.conv1 = nn.Conv1d(input_size, channel_size, conv_kernel, stride, padding)\n",
    "        self.conv2 = nn.Conv1d(channel_size, channel_size, conv_kernel, stride, padding)\n",
    "        self.batchnorm1 = nn.BatchNorm1d(channel_size)\n",
    "        self.batchnorm2 = nn.BatchNorm1d(channel_size)\n",
    "        self.rnn = nn.GRU(channel_size, channel_size)\n",
    "        self.maxpool = nn.MaxPool1d(max_kernel)\n",
    "\n",
    "    def forward(self, x):\n",
    "        \"\"\"Args:\n",
    "            x (tensor): shape [batch, channels, len]\n",
    "\n",
    "        Returns:\n",
    "            cnv_out (tensor): shape [batch, channels, len]\n",
    "            rrn_out (tensor): shape [len, batch, channels]\n",
    "            max_out (tensor): shape [batch, channels, len]\n",
    "        \"\"\"\n",
    "\n",
    "        x = self.conv1(x)\n",
    "        x = self.batchnorm1(x)\n",
    "        x = F.relu(x)\n",
    "\n",
    "        x = self.conv2(x)\n",
    "        x = self.batchnorm2(x)\n",
    "        cnv_out = F.relu(x)\n",
    "\n",
    "        x = cnv_out.permute(2, 0, 1)\n",
    "        rnn_out, _ = self.rnn(x)\n",
    "        \n",
    "        rnn_out = rnn_out.permute(1, 2, 0)\n",
    "        max_out = self.maxpool(rnn_out)\n",
    "\n",
    "        return cnv_out, rnn_out, max_out\n",
    "\n",
    "class URNetFlatCNNBlock(nn.Module):\n",
    "\n",
    "    def __init__(self, input_size, channel_size, conv_kernel, stride = 1, padding = 'same'):\n",
    "        super(URNetFlatCNNBlock, self).__init__()\n",
    "\n",
    "        self.conv1 = nn.Conv1d(input_size, channel_size, conv_kernel, stride, padding)\n",
    "        self.conv2 = nn.Conv1d(channel_size, channel_size, conv_kernel, stride, padding)\n",
    "        self.batchnorm1 = nn.BatchNorm1d(channel_size)\n",
    "        self.batchnorm2 = nn.BatchNorm1d(channel_size)\n",
    "\n",
    "    def forward(self, x):\n",
    "        \"\"\"Args:\n",
    "            x (tensor): shape [batch, channels, len]\n",
    "\n",
    "        Returns:\n",
    "            x (tensor): shape [batch, channels, len]\n",
    "        \"\"\"\n",
    "\n",
    "        x = self.conv1(x)\n",
    "        x = self.batchnorm1(x)\n",
    "        x = F.relu(x)\n",
    "\n",
    "        x = self.conv2(x)\n",
    "        x = self.batchnorm2(x)\n",
    "        x = F.relu(x)\n",
    "\n",
    "        return x\n",
    "\n",
    "class URNetUpCNNBlock(nn.Module):\n",
    "\n",
    "    def __init__(self, input_size, channel_size, conv_kernel, up_kernel, up_stride, conv_stride = 1, padding = 'same'):\n",
    "        super(URNetUpCNNBlock, self).__init__()\n",
    "\n",
    "        self.conv1 = nn.Conv1d(int(channel_size*3), channel_size, conv_kernel, conv_stride, padding)\n",
    "        self.conv2 = nn.Conv1d(channel_size, channel_size, conv_kernel, conv_stride, padding)\n",
    "        self.batchnorm1 = nn.BatchNorm1d(channel_size)\n",
    "        self.batchnorm2 = nn.BatchNorm1d(channel_size)\n",
    "        self.upconv = nn.ConvTranspose1d(input_size, channel_size, up_kernel, up_stride)\n",
    "\n",
    "    def forward(self, x, cnn_in, rnn_in):\n",
    "        \"\"\"Args:\n",
    "            x (tensor): shape [batch, channels, len]\n",
    "            cnn_in (tensor): shape [batch, channels, len]\n",
    "            rnn_in (tensor): shape [batch, channels, len]\n",
    "\n",
    "        Returns:\n",
    "            out (tensor): shape [batch, channels, len]\n",
    "        \"\"\"\n",
    "\n",
    "        x = self.upconv(x)\n",
    "        x = torch.cat([x, cnn_in, rnn_in], dim = 1) # concatenate on channel dim\n",
    "        x = self.conv1(x)\n",
    "        x = self.batchnorm1(x)\n",
    "        x = F.relu(x)\n",
    "\n",
    "        x = self.conv2(x)\n",
    "        x = self.batchnorm2(x)\n",
    "        out = F.relu(x)\n",
    "\n",
    "        return out"
   ]
  },
  {
   "cell_type": "code",
   "execution_count": 58,
   "metadata": {},
   "outputs": [],
   "source": [
    "x = torch.randn((4, 1, 200))"
   ]
  },
  {
   "cell_type": "code",
   "execution_count": 67,
   "metadata": {},
   "outputs": [],
   "source": [
    "DBlock1 = URNetDownCNNBlock(1, 16, 11, 2)\n",
    "DBlock2 = URNetDownCNNBlock(16, 32, 3, 2)\n",
    "DBlock3 = URNetDownCNNBlock(32, 64, 3, 2)\n",
    "FBlock  = URNetFlatCNNBlock(64, 128, 3)\n",
    "UBlock1 = URNetUpCNNBlock(128, 64, 3, 2, 2)\n",
    "UBlock2 = URNetUpCNNBlock(64, 32, 3, 2, 2)\n",
    "UBlock3 = URNetUpCNNBlock(32, 16, 3, 2, 2)"
   ]
  },
  {
   "cell_type": "code",
   "execution_count": 68,
   "metadata": {},
   "outputs": [],
   "source": [
    "cnv_out1, rnn_out1, max_out1 = DBlock1(x)\n",
    "cnv_out2, rnn_out2, max_out2 = DBlock2(max_out1)\n",
    "cnv_out3, rnn_out3, max_out3 = DBlock3(max_out2)"
   ]
  },
  {
   "cell_type": "code",
   "execution_count": 69,
   "metadata": {},
   "outputs": [],
   "source": [
    "f_out = FBlock(max_out3)"
   ]
  },
  {
   "cell_type": "code",
   "execution_count": 70,
   "metadata": {},
   "outputs": [
    {
     "name": "stdout",
     "output_type": "stream",
     "text": [
      "torch.Size([4, 64, 50])\n",
      "torch.Size([4, 32, 100])\n",
      "torch.Size([4, 16, 200])\n"
     ]
    }
   ],
   "source": [
    "up1_out = UBlock1(f_out, cnv_out3, rnn_out3)\n",
    "up2_out = UBlock2(up1_out, cnv_out2, rnn_out2)\n",
    "up3_out = UBlock3(up2_out, cnv_out1, rnn_out1)"
   ]
  },
  {
   "cell_type": "code",
   "execution_count": 71,
   "metadata": {},
   "outputs": [
    {
     "data": {
      "text/plain": [
       "torch.Size([4, 16, 200])"
      ]
     },
     "execution_count": 71,
     "metadata": {},
     "output_type": "execute_result"
    }
   ],
   "source": [
    "up3_out.shape"
   ]
  },
  {
   "cell_type": "code",
   "execution_count": null,
   "metadata": {},
   "outputs": [],
   "source": []
  }
 ],
 "metadata": {
  "kernelspec": {
   "display_name": "Python 3 (ipykernel)",
   "language": "python",
   "name": "python3"
  },
  "language_info": {
   "codemirror_mode": {
    "name": "ipython",
    "version": 3
   },
   "file_extension": ".py",
   "mimetype": "text/x-python",
   "name": "python",
   "nbconvert_exporter": "python",
   "pygments_lexer": "ipython3",
   "version": "3.7.10"
  }
 },
 "nbformat": 4,
 "nbformat_minor": 5
}
