{
 "cells": [
  {
   "cell_type": "code",
   "execution_count": 1,
   "source": [
    "import sys\n",
    "sys.path.append('/hpc/compgen/users/mpages/babe/src')\n",
    "sys.path.append('/hpc/compgen/users/mpages/babe/models/causalcall_ctc')\n",
    "from model import CausalCallCTC\n",
    "import torch\n",
    "from torch import nn\n",
    "import torch.nn.functional as F"
   ],
   "outputs": [
    {
     "output_type": "stream",
     "name": "stderr",
     "text": [
      "/hpc/compgen/users/mpages/babe/src/layers.py:221: UserWarning: CuPy is not correctly installed.\n",
      "\n",
      "If you are using wheel distribution (cupy-cudaXX), make sure that the version of CuPy you installed matches with the version of CUDA on your host.\n",
      "Also, confirm that only one CuPy package is installed:\n",
      "  $ pip freeze\n",
      "\n",
      "If you are building CuPy from source, please check your environment, uninstall CuPy and reinstall it with:\n",
      "  $ pip install cupy --no-cache-dir -vvvv\n",
      "\n",
      "Check the Installation Guide for details:\n",
      "  https://docs.cupy.dev/en/latest/install.html\n",
      "\n",
      "original error: libcublas.so.10: cannot open shared object file: No such file or directory\n",
      "  warnings.warn(str(e))\n",
      "/hpc/compgen/users/mpages/babe/src/layers.py:222: UserWarning: CTC-CRF Decoder not available\n",
      "  warnings.warn('CTC-CRF Decoder not available')\n"
     ]
    }
   ],
   "metadata": {}
  },
  {
   "cell_type": "code",
   "execution_count": 2,
   "source": [
    "model = CausalCallCTC(device = 'cpu', dataloader_train = None, dataloader_validation = None)"
   ],
   "outputs": [],
   "metadata": {}
  },
  {
   "cell_type": "code",
   "execution_count": 3,
   "source": [
    "x = torch.randn(4, 1, 100)"
   ],
   "outputs": [],
   "metadata": {}
  },
  {
   "cell_type": "code",
   "execution_count": 6,
   "source": [
    "model.count_parameters()"
   ],
   "outputs": [
    {
     "output_type": "execute_result",
     "data": {
      "text/plain": [
       "988677"
      ]
     },
     "metadata": {},
     "execution_count": 6
    }
   ],
   "metadata": {}
  },
  {
   "cell_type": "code",
   "execution_count": null,
   "source": [],
   "outputs": [],
   "metadata": {}
  }
 ],
 "metadata": {
  "orig_nbformat": 4,
  "kernelspec": {
   "name": "python3",
   "display_name": "Python 3 (ipykernel)",
   "language": "python"
  },
  "language_info": {
   "name": "python",
   "version": "3.7.10",
   "mimetype": "text/x-python",
   "codemirror_mode": {
    "name": "ipython",
    "version": 3
   },
   "pygments_lexer": "ipython3",
   "nbconvert_exporter": "python",
   "file_extension": ".py"
  }
 },
 "nbformat": 4,
 "nbformat_minor": 2
}